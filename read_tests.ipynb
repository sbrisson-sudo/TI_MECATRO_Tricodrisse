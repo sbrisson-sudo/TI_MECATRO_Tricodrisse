{
 "cells": [
  {
   "cell_type": "code",
   "execution_count": 1,
   "metadata": {},
   "outputs": [],
   "source": [
    "import pandas as pd"
   ]
  },
  {
   "cell_type": "code",
   "execution_count": null,
   "metadata": {},
   "outputs": [],
   "source": [
    "in_file = \"test_file.csv\"\n",
    "\n",
    "df = pd.read_csv(in_file)"
   ]
  }
 ],
 "metadata": {
  "kernelspec": {
   "display_name": "Python 3.9.12 ('base')",
   "language": "python",
   "name": "python3"
  },
  "language_info": {
   "name": "python",
   "version": "3.9.12"
  },
  "orig_nbformat": 4,
  "vscode": {
   "interpreter": {
    "hash": "e9d938041a4dfe373330fe6b587a2eb2adc592a87f27b3862b4a001eb6a8d124"
   }
  }
 },
 "nbformat": 4,
 "nbformat_minor": 2
}
